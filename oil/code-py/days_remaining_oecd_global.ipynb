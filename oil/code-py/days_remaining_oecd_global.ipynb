{
 "cells": [
  {
   "cell_type": "code",
   "execution_count": 1,
   "metadata": {},
   "outputs": [],
   "source": [
    "#Import libraries\n",
    "import pandas as pd\n",
    "import requests\n",
    "import matplotlib.pyplot as plt\n",
    "import numpy as np\n",
    "from datetime import date, datetime\n",
    "from dateutil.relativedelta import relativedelta\n",
    "import matplotlib.ticker as ticker"
   ]
  },
  {
   "cell_type": "code",
   "execution_count": 2,
   "metadata": {},
   "outputs": [
    {
     "name": "stdout",
     "output_type": "stream",
     "text": [
      "Error\n"
     ]
    },
    {
     "ename": "TypeError",
     "evalue": "'NoneType' object is not subscriptable",
     "output_type": "error",
     "traceback": [
      "\u001b[0;31m---------------------------------------------------------------------------\u001b[0m",
      "\u001b[0;31mTypeError\u001b[0m                                 Traceback (most recent call last)",
      "\u001b[0;32m/var/folders/cn/9b7qzyxn6512frdxy000fj8h0000gn/T/ipykernel_10973/4008624266.py\u001b[0m in \u001b[0;36m<module>\u001b[0;34m\u001b[0m\n\u001b[1;32m     24\u001b[0m         \u001b[0mprint\u001b[0m\u001b[0;34m(\u001b[0m\u001b[0;34m'Error'\u001b[0m\u001b[0;34m)\u001b[0m\u001b[0;34m\u001b[0m\u001b[0;34m\u001b[0m\u001b[0m\n\u001b[1;32m     25\u001b[0m \u001b[0;34m\u001b[0m\u001b[0m\n\u001b[0;32m---> 26\u001b[0;31m     df = pd.DataFrame(json_data.get('series')[0].get('data'),\n\u001b[0m\u001b[1;32m     27\u001b[0m                       columns = ['Date', SERIES_NAMES[i]])\n\u001b[1;32m     28\u001b[0m     \u001b[0mdf\u001b[0m\u001b[0;34m.\u001b[0m\u001b[0mset_index\u001b[0m\u001b[0;34m(\u001b[0m\u001b[0;34m'Date'\u001b[0m\u001b[0;34m,\u001b[0m \u001b[0mdrop\u001b[0m\u001b[0;34m=\u001b[0m\u001b[0;32mTrue\u001b[0m\u001b[0;34m,\u001b[0m \u001b[0minplace\u001b[0m\u001b[0;34m=\u001b[0m\u001b[0;32mTrue\u001b[0m\u001b[0;34m)\u001b[0m\u001b[0;34m\u001b[0m\u001b[0;34m\u001b[0m\u001b[0m\n",
      "\u001b[0;31mTypeError\u001b[0m: 'NoneType' object is not subscriptable"
     ]
    }
   ],
   "source": [
    "# API Key from EIA\n",
    "api_key = '4Cgy5BurMNMAhbo0RBIu3s5FFyyo37QEVmW0uBoz'\n",
    "# PADD Names to Label Columns\n",
    "# Change to whatever column labels you want to use.\n",
    "SERIES_NAMES = ['OECD INVENTORY','GLOBAL CONSUMPTION']\n",
    "# Enter all your Series IDs here separated by commas\n",
    "SERIES_KEY = ['STEO.PASC_OECD_T3.M','STEO.PATC_WORLD.M']\n",
    "# Initialize list - this is the final list that you will store all the data from the json pull. Then you will use this list to concat into a pandas dataframe. \n",
    "final_data = []\n",
    "# Choose start and end dates\n",
    "startDate = '2004-01-01'\n",
    "endDate = '2022-02-01'\n",
    "\n",
    "\n",
    "# Pull in data via EIA API\n",
    "for i in range(len(SERIES_KEY)):\n",
    "    url = 'http://api.eia.gov/series/?api_key=' + api_key + '&series_id=' + SERIES_KEY[i]\n",
    "    r = requests.get(url)\n",
    "    json_data = r.json()\n",
    "    \n",
    "    if r.status_code == 200:\n",
    "        print('Success!')\n",
    "    else:\n",
    "        print('Error')\n",
    "    \n",
    "    df = pd.DataFrame(json_data.get('series')[0].get('data'),\n",
    "                      columns = ['Date', SERIES_NAMES[i]])\n",
    "    df.set_index('Date', drop=True, inplace=True)\n",
    "    final_data.append(df)\n"
   ]
  },
  {
   "cell_type": "code",
   "execution_count": null,
   "metadata": {},
   "outputs": [],
   "source": [
    "final_data[0]['Year']=final_data[0].index.astype(str).str[:4]\n",
    "final_data[0]['Month']=final_data[0].index.astype(str).str[4:]\n",
    "final_data[0]['Day']='1'\n",
    "final_data[0]['Date'] = pd.to_datetime(final_data[0][['Year','Month','Day']])\n",
    "final_data[0].set_index('Date',drop=True,inplace=True)\n",
    "final_data[0].sort_index(inplace=True)\n",
    "final_data[0] = final_data[0][startDate:endDate]\n",
    "final_data[0] = final_data[0].iloc[:,:5]\n",
    "\n",
    "\n",
    "final_data[1]['Year']=final_data[1].index.astype(str).str[:4]\n",
    "final_data[1]['Month']=final_data[1].index.astype(str).str[4:]\n",
    "final_data[1]['Day']='1'\n",
    "final_data[1]['Date'] = pd.to_datetime(final_data[1][['Year','Month','Day']])\n",
    "final_data[1].set_index('Date',drop=True,inplace=True)\n",
    "final_data[1].sort_index(inplace=True)\n",
    "final_data[1] = final_data[1][startDate:endDate]\n",
    "final_data[1] = final_data[1].iloc[:,:5]\n",
    "\n",
    "final_data.append(final_data[1].copy())\n",
    "\n",
    "final_data[2].rename(columns={\"GLOBAL CONSUMPTION\":\"DAYS REMAINING\"},inplace=True)\n",
    "final_data[2]['DAYS REMAINING']=final_data[0]['OECD INVENTORY']/final_data[1]['GLOBAL CONSUMPTION']\n",
    "\n",
    "final_data[0]=final_data[2].copy()\n",
    "\n",
    "del final_data[2]\n",
    "del final_data[1]\n",
    "\n",
    "crude = pd.concat(final_data,axis=1)\n",
    "print(crude)"
   ]
  },
  {
   "cell_type": "code",
   "execution_count": null,
   "metadata": {},
   "outputs": [],
   "source": [
    "\n",
    "\n",
    "# Generating Colours and Style\n",
    "colors = {'GLOBAL CONSUMPTION':'#045275','TREND 1':'#DC3977','TREND 2':'#DC3977'}\n",
    "plt.style.use('fivethirtyeight')\n",
    "\n",
    "\n",
    "# Creating the Visualization\n",
    "plot = crude.plot(figsize=(12,6), \n",
    "                  color=list(colors.values()), \n",
    "                  linewidth=5, \n",
    "                  legend=False)\n",
    "\n",
    "\n",
    "\n",
    "plot.yaxis.set_major_formatter(ticker.StrMethodFormatter('{x:,.0f}'))\n",
    "plot.grid(color='#d4d4d4')\n",
    "plot.set_ylabel('Days Remaining')\n",
    "plot.set_yticks(range(26,40,2))\n",
    "plot.set_ylim([25,39])\n",
    "plot.tick_params(labelright=True)\n",
    "\n",
    "xdates=[date(2000,1,1),date(2000,1,1) +relativedelta(years=2),date(2000,1,1) +relativedelta(years=4),date(2000,1,1) +relativedelta(years=6),\\\n",
    "date(2000,1,1) +relativedelta(years=8),date(2000,1,1) +relativedelta(years=10),date(2000,1,1) +relativedelta(years=12),date(2000,1,1) +relativedelta(years=14),\\\n",
    "    date(2000,1,1) +relativedelta(years=16),date(2000,1,1) +relativedelta(years=18),date(2000,1,1) +relativedelta(years=20),date(2000,1,1) +relativedelta(years=22)]\n",
    "xlabels=[]\n",
    "for i in xdates:\n",
    "    xlabels.append(i.strftime('%Y'))\n",
    "\n",
    "plot.set_xticks(xdates)\n",
    "plot.set_xticklabels(xlabels)\n",
    "plot.set_xlim([date(2003,1,1),date(2022,6,1)])\n",
    "plot.set_xlabel('')\n",
    "#plot.legend({'OECD + non-OECD'},fontsize=22,loc='bottom right')\n",
    "plot.text(x = date(2003,6,1), \n",
    "          y = 40, \n",
    "          s = \"Days Remaining: OECD Inventories / Global Consumption\", \n",
    "          fontsize = 23, \n",
    "          weight = 'bold', \n",
    "          alpha = .75)\n",
    "plot.text(x = date(2009,11,1), \n",
    "          y = 39.2, \n",
    "          s = \"EIA February 2022 STEO\", \n",
    "          fontsize = 16, \n",
    "          alpha = .75)\n",
    "plot.text(x = date(2003,8,1), \n",
    "          y = 25.5,\n",
    "          s = '@peterdevietien  Data: EIA', \n",
    "          fontsize = 14)\n",
    "\n",
    "pngname='days_remaining_oecd_global'\n",
    "plt.savefig('/Users/peter/projects/oil/post/'+pngname)\n"
   ]
  },
  {
   "cell_type": "code",
   "execution_count": null,
   "metadata": {},
   "outputs": [],
   "source": []
  }
 ],
 "metadata": {
  "interpreter": {
   "hash": "22c32a88c272cd0ffba3bfc0d2cd36a98661463b0f5e7c7ff81dbd09588944d8"
  },
  "kernelspec": {
   "display_name": "Python 3.9.7 64-bit ('base': conda)",
   "language": "python",
   "name": "python3"
  },
  "language_info": {
   "codemirror_mode": {
    "name": "ipython",
    "version": 3
   },
   "file_extension": ".py",
   "mimetype": "text/x-python",
   "name": "python",
   "nbconvert_exporter": "python",
   "pygments_lexer": "ipython3",
   "version": "3.9.7"
  },
  "orig_nbformat": 4
 },
 "nbformat": 4,
 "nbformat_minor": 2
}
