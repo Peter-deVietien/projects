{
 "cells": [
  {
   "cell_type": "code",
   "execution_count": 1,
   "metadata": {},
   "outputs": [],
   "source": [
    "#Import libraries\n",
    "import pandas as pd\n",
    "import requests\n",
    "import matplotlib.pyplot as plt\n",
    "import numpy as np\n",
    "from datetime import date, datetime\n",
    "from dateutil.relativedelta import relativedelta\n",
    "import matplotlib.ticker as ticker"
   ]
  },
  {
   "cell_type": "code",
   "execution_count": 2,
   "metadata": {},
   "outputs": [
    {
     "name": "stdout",
     "output_type": "stream",
     "text": [
      "Success!\n",
      "        Residential\n",
      "Date               \n",
      "2021Q3        23.06\n",
      "2021Q2        23.06\n",
      "2021Q1        22.20\n",
      "2020Q4        20.99\n",
      "2020Q3        20.62\n",
      "...             ...\n",
      "2002Q1        12.75\n",
      "2001Q4        12.30\n",
      "2001Q3        12.90\n",
      "2001Q2        12.04\n",
      "2001Q1        11.10\n",
      "\n",
      "[83 rows x 1 columns]\n"
     ]
    }
   ],
   "source": [
    "# API Key from EIA\n",
    "api_key = '4Cgy5BurMNMAhbo0RBIu3s5FFyyo37QEVmW0uBoz'\n",
    "# PADD Names to Label Columns\n",
    "# Change to whatever column labels you want to use.\n",
    "SERIES_NAMES = ['Residential']\n",
    "# Enter all your Series IDs here separated by commas\n",
    "SERIES_KEY = ['ELEC.PRICE.CA-RES.Q']\n",
    "# Initialize list - this is the final list that you will store all the data from the json pull. Then you will use this list to concat into a pandas dataframe. \n",
    "final_data = []\n",
    "# Choose start and end dates\n",
    "startDate = '2018-01-01'\n",
    "endDate = '2022-02-01'\n",
    "\n",
    "\n",
    "# Pull in data via EIA API\n",
    "for i in range(len(SERIES_KEY)):\n",
    "    url = 'http://api.eia.gov/series/?api_key=' + api_key + '&series_id=' + SERIES_KEY[i]\n",
    "    r = requests.get(url)\n",
    "    json_data = r.json()\n",
    "    \n",
    "    if r.status_code == 200:\n",
    "        print('Success!')\n",
    "    else:\n",
    "        print('Error')\n",
    "    \n",
    "    df = pd.DataFrame(json_data.get('series')[0].get('data'),\n",
    "                      columns = ['Date', SERIES_NAMES[i]])\n",
    "    df.set_index('Date', drop=True, inplace=True)\n",
    "    final_data.append(df)\n",
    "\n",
    "print(final_data[0])"
   ]
  },
  {
   "cell_type": "code",
   "execution_count": 3,
   "metadata": {},
   "outputs": [
    {
     "name": "stderr",
     "output_type": "stream",
     "text": [
      "/var/folders/cn/9b7qzyxn6512frdxy000fj8h0000gn/T/ipykernel_3621/2006392677.py:6: SettingWithCopyWarning: \n",
      "A value is trying to be set on a copy of a slice from a DataFrame\n",
      "\n",
      "See the caveats in the documentation: https://pandas.pydata.org/pandas-docs/stable/user_guide/indexing.html#returning-a-view-versus-a-copy\n",
      "  final_data[0]['Month'][i]=str((int(final_data[0]['Month'][i])-1)*3+1)\n"
     ]
    }
   ],
   "source": [
    "final_data[0]['Year']=final_data[0].index.astype(str).str[:4]\n",
    "final_data[0]['Month']=final_data[0].index.astype(str).str[5:6]\n",
    "\n",
    "\n",
    "for i in range(len(final_data[0])):\n",
    "    final_data[0]['Month'][i]=str((int(final_data[0]['Month'][i])-1)*3+1)\n",
    "\n",
    "final_data[0]['Day']='1'\n",
    "final_data[0]['Date'] = pd.to_datetime(final_data[0][['Year','Month','Day']])\n",
    "final_data[0].set_index('Date',drop=True,inplace=True)\n",
    "final_data[0].sort_index(inplace=True)\n",
    "final_data[0] = final_data[0][startDate:endDate]\n",
    "final_data[0] = final_data[0].iloc[:,:5]\n",
    "\n"
   ]
  },
  {
   "cell_type": "code",
   "execution_count": null,
   "metadata": {},
   "outputs": [],
   "source": [
    "\n"
   ]
  },
  {
   "cell_type": "code",
   "execution_count": 4,
   "metadata": {},
   "outputs": [
    {
     "name": "stdout",
     "output_type": "stream",
     "text": [
      "            Residential  Year Month Day\n",
      "Date                                   \n",
      "2018-01-01        18.86  2018     1   1\n",
      "2018-04-01        18.37  2018     4   1\n",
      "2018-07-01        19.63  2018     7   1\n",
      "2018-10-01        18.11  2018    10   1\n",
      "2019-01-01        19.05  2019     1   1\n",
      "2019-04-01        19.27  2019     4   1\n",
      "2019-07-01        20.08  2019     7   1\n",
      "2019-10-01        17.93  2019    10   1\n",
      "2020-01-01        20.54  2020     1   1\n",
      "2020-04-01        19.51  2020     4   1\n",
      "2020-07-01        20.62  2020     7   1\n",
      "2020-10-01        20.99  2020    10   1\n",
      "2021-01-01        22.20  2021     1   1\n",
      "2021-04-01        23.06  2021     4   1\n",
      "2021-07-01        23.06  2021     7   1\n"
     ]
    }
   ],
   "source": [
    "print(final_data[0])"
   ]
  },
  {
   "cell_type": "code",
   "execution_count": 5,
   "metadata": {},
   "outputs": [],
   "source": [
    "final_data.append(final_data[0].copy())\n",
    "\n",
    "final_data[1].rename(columns={\"Residential\":\"yoy\"},inplace=True)"
   ]
  },
  {
   "cell_type": "code",
   "execution_count": 6,
   "metadata": {},
   "outputs": [
    {
     "name": "stderr",
     "output_type": "stream",
     "text": [
      "/var/folders/cn/9b7qzyxn6512frdxy000fj8h0000gn/T/ipykernel_3621/1023459260.py:2: SettingWithCopyWarning: \n",
      "A value is trying to be set on a copy of a slice from a DataFrame\n",
      "\n",
      "See the caveats in the documentation: https://pandas.pydata.org/pandas-docs/stable/user_guide/indexing.html#returning-a-view-versus-a-copy\n",
      "  final_data[1]['yoy'][i]=final_data[0]['Residential'][i]/final_data[0]['Residential'][i-4]\n"
     ]
    }
   ],
   "source": [
    "\n",
    "\n",
    "for i in range(-1,-len(final_data[1])+4,-1):\n",
    "    final_data[1]['yoy'][i]=final_data[0]['Residential'][i]/final_data[0]['Residential'][i-4]\n",
    "\n",
    "\n"
   ]
  },
  {
   "cell_type": "code",
   "execution_count": 7,
   "metadata": {},
   "outputs": [],
   "source": [
    "\n",
    "final_data[1].drop(final_data[1].index[np.arange(0,5)],inplace=True)\n",
    "\n"
   ]
  },
  {
   "cell_type": "code",
   "execution_count": 8,
   "metadata": {},
   "outputs": [],
   "source": [
    "final_data[0]=final_data[1].copy()\n",
    "\n",
    "del final_data[1]\n",
    "\n",
    "\n"
   ]
  },
  {
   "cell_type": "code",
   "execution_count": 9,
   "metadata": {},
   "outputs": [
    {
     "name": "stdout",
     "output_type": "stream",
     "text": [
      "                 yoy  Year Month Day\n",
      "Date                                \n",
      "2019-04-01  1.048993  2019     4   1\n",
      "2019-07-01  1.022924  2019     7   1\n",
      "2019-10-01  0.990061  2019    10   1\n",
      "2020-01-01  1.078215  2020     1   1\n",
      "2020-04-01  1.012455  2020     4   1\n",
      "2020-07-01  1.026892  2020     7   1\n",
      "2020-10-01  1.170664  2020    10   1\n",
      "2021-01-01  1.080818  2021     1   1\n",
      "2021-04-01  1.181958  2021     4   1\n",
      "2021-07-01  1.118332  2021     7   1\n"
     ]
    }
   ],
   "source": [
    "print(final_data[0])"
   ]
  },
  {
   "cell_type": "code",
   "execution_count": 10,
   "metadata": {},
   "outputs": [],
   "source": [
    "\n",
    "\n",
    "crude = pd.concat(final_data,axis=1)"
   ]
  },
  {
   "cell_type": "code",
   "execution_count": 16,
   "metadata": {},
   "outputs": [
    {
     "data": {
      "image/png": "[encoded data removed]",
      "text/plain": [
       "<Figure size 864x576 with 1 Axes>"
      ]
     },
     "metadata": {},
     "output_type": "display_data"
    }
   ],
   "source": [
    "\n",
    "\n",
    "# Generating Colours and Style\n",
    "colors = {'Brent':'#045275','TREND 1':'#DC3977','TREND 2':'#DC3977'}\n",
    "plt.style.use('fivethirtyeight')\n",
    "\n",
    "\n",
    "# Creating the Visualization\n",
    "plot = crude.plot.bar(figsize=(12,8),\n",
    "                color=list(colors.values()), \n",
    "                linewidth=2, \n",
    "                legend=False)\n",
    "\n",
    "\n",
    "plot.yaxis.set_major_formatter(ticker.StrMethodFormatter('{x:,.2f}'))\n",
    "plot.grid(color='#d4d4d4')\n",
    "plot.set_ylabel('Residential Electricity [$/kWh]')\n",
    "#plot.set_yticks(range(0,120,10))\n",
    "plot.set_ylim([0.9,1.25])\n",
    "#plot.tick_params(labelright=True)\n",
    "\n",
    "## Get x ticks with evenly spaced dates\n",
    "datestart=final_data[0].index[0]\n",
    "dateend=final_data[0].index[-1]\n",
    "xdates=[datestart]\n",
    "while xdates[-1]<dateend:\n",
    "    xdates.append(xdates[-1] + relativedelta(months=3))\n",
    "\n",
    "xlabels=[]\n",
    "for i in xdates:\n",
    "    xlabels.append(i.strftime('%Y-%b'))\n",
    "\n",
    "\n",
    "#plot.set_xticks(xdates)\n",
    "#plot.set_xticklabels(xlabels)\n",
    "\"\"\" \n",
    "a=plot.get_xaxis()\n",
    "a.set_major_formatter(ticker.NullFormatter())\n",
    "a.set_minor_locator(ticker.FixedLocator(xdates))\n",
    " \"\"\"\n",
    "##\n",
    "\n",
    "#plot.set_xlim([date(2019,1,1),date(2022,1,1)])\n",
    "#plot.set_xlabel('')\n",
    "#plot.legend({'OECD + non-OECD'},fontsize=22,loc='bottom right')\n",
    "\"\"\" plot.text(x = date(2018,6,1), \n",
    "          y = 110, \n",
    "          s = \"Brent Crude\", \n",
    "          fontsize = 23, \n",
    "          weight = 'bold', \n",
    "          alpha = .75)\n",
    "plot.text(x = date(2015,11,1), \n",
    "          y = 3,\n",
    "          s = '@peterdevietien   Data: EIA', \n",
    "          fontsize = 14) \"\"\"\n",
    "\n",
    "\n",
    "pngname='residential-electricity-CA'\n",
    "plt.savefig('/Users/peter/projects/oil/post/'+pngname)\n",
    "\n"
   ]
  },
  {
   "cell_type": "code",
   "execution_count": null,
   "metadata": {},
   "outputs": [],
   "source": [
    "\n",
    "\n"
   ]
  },
  {
   "cell_type": "code",
   "execution_count": null,
   "metadata": {},
   "outputs": [],
   "source": [
    "\n",
    "\n",
    "\n"
   ]
  },
  {
   "cell_type": "code",
   "execution_count": 12,
   "metadata": {},
   "outputs": [
    {
     "name": "stdout",
     "output_type": "stream",
     "text": [
      "100\n"
     ]
    }
   ],
   "source": [
    "#[for date(2020,1,1),date(2020,1,1) +relativedelta(months=3)]\n",
    "\n",
    "k=range(0,120,20)\n",
    "print(k[-1])"
   ]
  },
  {
   "cell_type": "code",
   "execution_count": null,
   "metadata": {},
   "outputs": [],
   "source": []
  }
 ],
 "metadata": {
  "interpreter": {
   "hash": "22c32a88c272cd0ffba3bfc0d2cd36a98661463b0f5e7c7ff81dbd09588944d8"
  },
  "kernelspec": {
   "display_name": "Python 3.9.7 64-bit ('base': conda)",
   "language": "python",
   "name": "python3"
  },
  "language_info": {
   "codemirror_mode": {
    "name": "ipython",
    "version": 3
   },
   "file_extension": ".py",
   "mimetype": "text/x-python",
   "name": "python",
   "nbconvert_exporter": "python",
   "pygments_lexer": "ipython3",
   "version": "3.9.7"
  },
  "orig_nbformat": 4
 },
 "nbformat": 4,
 "nbformat_minor": 2
}
