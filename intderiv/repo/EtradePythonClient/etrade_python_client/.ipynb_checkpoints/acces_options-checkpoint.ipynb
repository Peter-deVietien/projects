{
 "cells": [
  {
   "cell_type": "code",
   "execution_count": 1,
   "id": "98b73977",
   "metadata": {},
   "outputs": [
    {
     "ename": "ModuleNotFoundError",
     "evalue": "No module named 'rauth'",
     "output_type": "error",
     "traceback": [
      "\u001b[0;31m---------------------------------------------------------------------------\u001b[0m",
      "\u001b[0;31mModuleNotFoundError\u001b[0m                       Traceback (most recent call last)",
      "\u001b[0;32m/var/folders/cn/9b7qzyxn6512frdxy000fj8h0000gn/T/ipykernel_17647/4214414893.py\u001b[0m in \u001b[0;36m<module>\u001b[0;34m\u001b[0m\n\u001b[1;32m      7\u001b[0m \u001b[0;32mimport\u001b[0m \u001b[0msys\u001b[0m\u001b[0;34m\u001b[0m\u001b[0;34m\u001b[0m\u001b[0m\n\u001b[1;32m      8\u001b[0m \u001b[0;32mimport\u001b[0m \u001b[0mrequests\u001b[0m\u001b[0;34m\u001b[0m\u001b[0;34m\u001b[0m\u001b[0m\n\u001b[0;32m----> 9\u001b[0;31m \u001b[0;32mfrom\u001b[0m \u001b[0mrauth\u001b[0m \u001b[0;32mimport\u001b[0m \u001b[0mOAuth1Service\u001b[0m\u001b[0;34m\u001b[0m\u001b[0;34m\u001b[0m\u001b[0m\n\u001b[0m\u001b[1;32m     10\u001b[0m \u001b[0;32mfrom\u001b[0m \u001b[0mlogging\u001b[0m\u001b[0;34m.\u001b[0m\u001b[0mhandlers\u001b[0m \u001b[0;32mimport\u001b[0m \u001b[0mRotatingFileHandler\u001b[0m\u001b[0;34m\u001b[0m\u001b[0;34m\u001b[0m\u001b[0m\n\u001b[1;32m     11\u001b[0m \u001b[0;32mfrom\u001b[0m \u001b[0maccounts\u001b[0m\u001b[0;34m.\u001b[0m\u001b[0maccounts\u001b[0m \u001b[0;32mimport\u001b[0m \u001b[0mAccounts\u001b[0m\u001b[0;34m\u001b[0m\u001b[0;34m\u001b[0m\u001b[0m\n",
      "\u001b[0;31mModuleNotFoundError\u001b[0m: No module named 'rauth'"
     ]
    }
   ],
   "source": [
    "\"\"\"This Python script provides examples on using the E*TRADE API endpoints\"\"\"\n",
    "from __future__ import print_function\n",
    "import webbrowser\n",
    "import json\n",
    "import logging\n",
    "import configparser\n",
    "import sys\n",
    "import requests\n",
    "from rauth import OAuth1Service\n",
    "from logging.handlers import RotatingFileHandler\n",
    "from accounts.accounts import Accounts\n",
    "from market.market import Market"
   ]
  },
  {
   "cell_type": "code",
   "execution_count": 2,
   "id": "d648ad54",
   "metadata": {},
   "outputs": [
    {
     "data": {
      "text/plain": [
       "['config.ini']"
      ]
     },
     "execution_count": 2,
     "metadata": {},
     "output_type": "execute_result"
    }
   ],
   "source": [
    "# loading configuration file\n",
    "config = configparser.ConfigParser()\n",
    "config.read('config.ini')"
   ]
  },
  {
   "cell_type": "code",
   "execution_count": 3,
   "id": "36ff1993",
   "metadata": {},
   "outputs": [
    {
     "ename": "NameError",
     "evalue": "name 'RotatingFileHandler' is not defined",
     "output_type": "error",
     "traceback": [
      "\u001b[0;31m---------------------------------------------------------------------------\u001b[0m",
      "\u001b[0;31mNameError\u001b[0m                                 Traceback (most recent call last)",
      "\u001b[0;32m/var/folders/cn/9b7qzyxn6512frdxy000fj8h0000gn/T/ipykernel_17647/2464620459.py\u001b[0m in \u001b[0;36m<module>\u001b[0;34m\u001b[0m\n\u001b[1;32m      2\u001b[0m \u001b[0mlogger\u001b[0m \u001b[0;34m=\u001b[0m \u001b[0mlogging\u001b[0m\u001b[0;34m.\u001b[0m\u001b[0mgetLogger\u001b[0m\u001b[0;34m(\u001b[0m\u001b[0;34m'my_logger'\u001b[0m\u001b[0;34m)\u001b[0m\u001b[0;34m\u001b[0m\u001b[0;34m\u001b[0m\u001b[0m\n\u001b[1;32m      3\u001b[0m \u001b[0mlogger\u001b[0m\u001b[0;34m.\u001b[0m\u001b[0msetLevel\u001b[0m\u001b[0;34m(\u001b[0m\u001b[0mlogging\u001b[0m\u001b[0;34m.\u001b[0m\u001b[0mDEBUG\u001b[0m\u001b[0;34m)\u001b[0m\u001b[0;34m\u001b[0m\u001b[0;34m\u001b[0m\u001b[0m\n\u001b[0;32m----> 4\u001b[0;31m \u001b[0mhandler\u001b[0m \u001b[0;34m=\u001b[0m \u001b[0mRotatingFileHandler\u001b[0m\u001b[0;34m(\u001b[0m\u001b[0;34m\"python_client.log\"\u001b[0m\u001b[0;34m,\u001b[0m \u001b[0mmaxBytes\u001b[0m\u001b[0;34m=\u001b[0m\u001b[0;36m5\u001b[0m\u001b[0;34m*\u001b[0m\u001b[0;36m1024\u001b[0m\u001b[0;34m*\u001b[0m\u001b[0;36m1024\u001b[0m\u001b[0;34m,\u001b[0m \u001b[0mbackupCount\u001b[0m\u001b[0;34m=\u001b[0m\u001b[0;36m3\u001b[0m\u001b[0;34m)\u001b[0m\u001b[0;34m\u001b[0m\u001b[0;34m\u001b[0m\u001b[0m\n\u001b[0m\u001b[1;32m      5\u001b[0m \u001b[0mFORMAT\u001b[0m \u001b[0;34m=\u001b[0m \u001b[0;34m\"%(asctime)-15s %(message)s\"\u001b[0m\u001b[0;34m\u001b[0m\u001b[0;34m\u001b[0m\u001b[0m\n\u001b[1;32m      6\u001b[0m \u001b[0mfmt\u001b[0m \u001b[0;34m=\u001b[0m \u001b[0mlogging\u001b[0m\u001b[0;34m.\u001b[0m\u001b[0mFormatter\u001b[0m\u001b[0;34m(\u001b[0m\u001b[0mFORMAT\u001b[0m\u001b[0;34m,\u001b[0m \u001b[0mdatefmt\u001b[0m\u001b[0;34m=\u001b[0m\u001b[0;34m'%m/%d/%Y %I:%M:%S %p'\u001b[0m\u001b[0;34m)\u001b[0m\u001b[0;34m\u001b[0m\u001b[0;34m\u001b[0m\u001b[0m\n",
      "\u001b[0;31mNameError\u001b[0m: name 'RotatingFileHandler' is not defined"
     ]
    }
   ],
   "source": [
    "# logger settings\n",
    "logger = logging.getLogger('my_logger')\n",
    "logger.setLevel(logging.DEBUG)\n",
    "handler = RotatingFileHandler(\"python_client.log\", maxBytes=5*1024*1024, backupCount=3)\n",
    "FORMAT = \"%(asctime)-15s %(message)s\"\n",
    "fmt = logging.Formatter(FORMAT, datefmt='%m/%d/%Y %I:%M:%S %p')\n",
    "handler.setFormatter(fmt)\n",
    "logger.addHandler(handler)"
   ]
  },
  {
   "cell_type": "code",
   "execution_count": 4,
   "id": "88340168",
   "metadata": {},
   "outputs": [],
   "source": [
    "def oauth():\n",
    "    \"\"\"Allows user authorization for the sample application with OAuth 1\"\"\"\n",
    "    etrade = OAuth1Service(\n",
    "        name=\"etrade\",\n",
    "        consumer_key=config[\"DEFAULT\"][\"CONSUMER_KEY\"],\n",
    "        consumer_secret=config[\"DEFAULT\"][\"CONSUMER_SECRET\"],\n",
    "        request_token_url=\"https://api.etrade.com/oauth/request_token\",\n",
    "        access_token_url=\"https://api.etrade.com/oauth/access_token\",\n",
    "        authorize_url=\"https://us.etrade.com/e/t/etws/authorize?key={}&token={}\",\n",
    "        base_url=\"https://api.etrade.com\")\n",
    "\n",
    "    menu_items = {\"1\": \"Sandbox Consumer Key\",\n",
    "                  \"2\": \"Live Consumer Key\",\n",
    "                  \"3\": \"Exit\"}\n",
    "    while True:\n",
    "        print(\"\")\n",
    "        options = menu_items.keys()\n",
    "        for entry in options:\n",
    "            print(entry + \")\\t\" + menu_items[entry])\n",
    "        selection = input(\"Please select Consumer Key Type: \")\n",
    "        if selection == \"1\":\n",
    "            base_url = config[\"DEFAULT\"][\"SANDBOX_BASE_URL\"]\n",
    "            break\n",
    "        elif selection == \"2\":\n",
    "            base_url = config[\"DEFAULT\"][\"PROD_BASE_URL\"]\n",
    "            break\n",
    "        elif selection == \"3\":\n",
    "            break\n",
    "        else:\n",
    "            print(\"Unknown Option Selected!\")\n",
    "    print(\"\")\n",
    "\n",
    "    # Step 1: Get OAuth 1 request token and secret\n",
    "    request_token, request_token_secret = etrade.get_request_token(\n",
    "        params={\"oauth_callback\": \"oob\", \"format\": \"json\"})\n",
    "\n",
    "    # Step 2: Go through the authentication flow. Login to E*TRADE.\n",
    "    # After you login, the page will provide a text code to enter.\n",
    "    authorize_url = etrade.authorize_url.format(etrade.consumer_key, request_token)\n",
    "    webbrowser.open(authorize_url)\n",
    "    text_code = input(\"Please accept agreement and enter text code from browser: \")\n",
    "\n",
    "    # Step 3: Exchange the authorized request token for an authenticated OAuth 1 session\n",
    "    session = etrade.get_auth_session(request_token,\n",
    "                                  request_token_secret,\n",
    "                                  params={\"oauth_verifier\": text_code})\n",
    "\n",
    "    main_menu(session, base_url)\n",
    "\n"
   ]
  },
  {
   "cell_type": "code",
   "execution_count": 5,
   "id": "7fecb964",
   "metadata": {},
   "outputs": [
    {
     "ename": "NameError",
     "evalue": "name 'OAuth1Service' is not defined",
     "output_type": "error",
     "traceback": [
      "\u001b[0;31m---------------------------------------------------------------------------\u001b[0m",
      "\u001b[0;31mNameError\u001b[0m                                 Traceback (most recent call last)",
      "\u001b[0;32m/var/folders/cn/9b7qzyxn6512frdxy000fj8h0000gn/T/ipykernel_17647/664524542.py\u001b[0m in \u001b[0;36m<module>\u001b[0;34m\u001b[0m\n\u001b[1;32m     29\u001b[0m \u001b[0;34m\u001b[0m\u001b[0m\n\u001b[1;32m     30\u001b[0m \u001b[0;32mif\u001b[0m \u001b[0m__name__\u001b[0m \u001b[0;34m==\u001b[0m \u001b[0;34m\"__main__\"\u001b[0m\u001b[0;34m:\u001b[0m\u001b[0;34m\u001b[0m\u001b[0;34m\u001b[0m\u001b[0m\n\u001b[0;32m---> 31\u001b[0;31m     \u001b[0moauth\u001b[0m\u001b[0;34m(\u001b[0m\u001b[0;34m)\u001b[0m\u001b[0;34m\u001b[0m\u001b[0;34m\u001b[0m\u001b[0m\n\u001b[0m\u001b[1;32m     32\u001b[0m \u001b[0;34m\u001b[0m\u001b[0m\n",
      "\u001b[0;32m/var/folders/cn/9b7qzyxn6512frdxy000fj8h0000gn/T/ipykernel_17647/1584689390.py\u001b[0m in \u001b[0;36moauth\u001b[0;34m()\u001b[0m\n\u001b[1;32m      1\u001b[0m \u001b[0;32mdef\u001b[0m \u001b[0moauth\u001b[0m\u001b[0;34m(\u001b[0m\u001b[0;34m)\u001b[0m\u001b[0;34m:\u001b[0m\u001b[0;34m\u001b[0m\u001b[0;34m\u001b[0m\u001b[0m\n\u001b[1;32m      2\u001b[0m     \u001b[0;34m\"\"\"Allows user authorization for the sample application with OAuth 1\"\"\"\u001b[0m\u001b[0;34m\u001b[0m\u001b[0;34m\u001b[0m\u001b[0m\n\u001b[0;32m----> 3\u001b[0;31m     etrade = OAuth1Service(\n\u001b[0m\u001b[1;32m      4\u001b[0m         \u001b[0mname\u001b[0m\u001b[0;34m=\u001b[0m\u001b[0;34m\"etrade\"\u001b[0m\u001b[0;34m,\u001b[0m\u001b[0;34m\u001b[0m\u001b[0;34m\u001b[0m\u001b[0m\n\u001b[1;32m      5\u001b[0m         \u001b[0mconsumer_key\u001b[0m\u001b[0;34m=\u001b[0m\u001b[0mconfig\u001b[0m\u001b[0;34m[\u001b[0m\u001b[0;34m\"DEFAULT\"\u001b[0m\u001b[0;34m]\u001b[0m\u001b[0;34m[\u001b[0m\u001b[0;34m\"CONSUMER_KEY\"\u001b[0m\u001b[0;34m]\u001b[0m\u001b[0;34m,\u001b[0m\u001b[0;34m\u001b[0m\u001b[0;34m\u001b[0m\u001b[0m\n",
      "\u001b[0;31mNameError\u001b[0m: name 'OAuth1Service' is not defined"
     ]
    }
   ],
   "source": [
    "def main_menu(session, base_url):\n",
    "    \"\"\"\n",
    "    Provides the different options for the sample application: Market Quotes, Account List\n",
    "\n",
    "    :param session: authenticated session\n",
    "    \"\"\"\n",
    "\n",
    "    menu_items = {\"1\": \"Market Quotes\",\n",
    "                  \"2\": \"Account List\",\n",
    "                  \"3\": \"Exit\"}\n",
    "\n",
    "    while True:\n",
    "        print(\"\")\n",
    "        options = menu_items.keys()\n",
    "        for entry in options:\n",
    "            print(entry + \")\\t\" + menu_items[entry])\n",
    "        selection = input(\"Please select an option: \")\n",
    "        if selection == \"1\":\n",
    "            market = Market(session, base_url)\n",
    "            market.quotes()\n",
    "        elif selection == \"2\":\n",
    "            accounts = Accounts(session, base_url)\n",
    "            accounts.account_list()\n",
    "        elif selection == \"3\":\n",
    "            break\n",
    "        else:\n",
    "            print(\"Unknown Option Selected!\")\n",
    "\n",
    "\n",
    "if __name__ == \"__main__\":\n",
    "    oauth()\n",
    "\n"
   ]
  },
  {
   "cell_type": "code",
   "execution_count": null,
   "id": "1b138ac6",
   "metadata": {},
   "outputs": [],
   "source": []
  }
 ],
 "metadata": {
  "kernelspec": {
   "display_name": "Python 3.9.7 64-bit ('base': conda)",
   "language": "python",
   "name": "python397jvsc74a57bd022c32a88c272cd0ffba3bfc0d2cd36a98661463b0f5e7c7ff81dbd09588944d8"
  },
  "language_info": {
   "codemirror_mode": {
    "name": "ipython",
    "version": 3
   },
   "file_extension": ".py",
   "mimetype": "text/x-python",
   "name": "python",
   "nbconvert_exporter": "python",
   "pygments_lexer": "ipython3",
   "version": "3.9.7"
  }
 },
 "nbformat": 4,
 "nbformat_minor": 5
}
